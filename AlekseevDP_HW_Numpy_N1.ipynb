{
 "cells": [
  {
   "cell_type": "code",
   "execution_count": null,
   "id": "b17c587c",
   "metadata": {},
   "outputs": [],
   "source": [
    "# Алексеев Д.П. (DSU-4, PYDA-21)\n",
    "# Домашнее задание «Библиотека numpy. Вычислительные задачи» (#1)\n",
    "# Задание 1\n",
    "# Создайте numpy array с элементами от числа N до 0 (например, для N = 10 это будет array([9, 8, 7, 6, 5, 4, 3, 2, 1, 0])).\n",
    "\n",
    "# Задание 2\n",
    "# Создайте диагональную матрицу с элементами от N до 0. Посчитайте сумму ее значений на диагонали.\n",
    "\n",
    "# Задание 3\n",
    "# Решите систему уравнений:\n",
    "# 4x + 2y + z = 4\n",
    "# x + 3y = 12\n",
    "# 5y + 4z = -3\n",
    "\n",
    "# Задание 4\n",
    "# В материалах занятия раздел “Задача 4 домашнего задания”"
   ]
  },
  {
   "cell_type": "code",
   "execution_count": 1,
   "id": "9c42ec98",
   "metadata": {},
   "outputs": [],
   "source": [
    "import numpy as np"
   ]
  },
  {
   "cell_type": "code",
   "execution_count": 2,
   "id": "10c429ed",
   "metadata": {},
   "outputs": [
    {
     "name": "stdout",
     "output_type": "stream",
     "text": [
      "Введите целое число N: 10\n"
     ]
    },
    {
     "data": {
      "text/plain": [
       "array([9, 8, 7, 6, 5, 4, 3, 2, 1, 0])"
      ]
     },
     "execution_count": 2,
     "metadata": {},
     "output_type": "execute_result"
    }
   ],
   "source": [
    "# Задание 1\n",
    "# Создайте numpy array с элементами от числа N до 0 (например, для N = 10 это будет array([9, 8, 7, 6, 5, 4, 3, 2, 1, 0])).\n",
    "user_input = int(input(\"Введите целое число N: \"))\n",
    "np_1 = np.arange(user_input-1, -1, -1)\n",
    "np_1"
   ]
  },
  {
   "cell_type": "code",
   "execution_count": 3,
   "id": "b7c8573a",
   "metadata": {},
   "outputs": [
    {
     "name": "stdout",
     "output_type": "stream",
     "text": [
      "[[9 0 0 0 0 0 0 0 0 0]\n",
      " [0 8 0 0 0 0 0 0 0 0]\n",
      " [0 0 7 0 0 0 0 0 0 0]\n",
      " [0 0 0 6 0 0 0 0 0 0]\n",
      " [0 0 0 0 5 0 0 0 0 0]\n",
      " [0 0 0 0 0 4 0 0 0 0]\n",
      " [0 0 0 0 0 0 3 0 0 0]\n",
      " [0 0 0 0 0 0 0 2 0 0]\n",
      " [0 0 0 0 0 0 0 0 1 0]\n",
      " [0 0 0 0 0 0 0 0 0 0]]\n",
      "Сумма значений на главной диагонали: 45\n"
     ]
    }
   ],
   "source": [
    "# Задание 2\n",
    "# Создайте диагональную матрицу с элементами от N до 0. Посчитайте сумму ее значений на диагонали.\n",
    "np_2 = np.diag(np.arange(user_input-1, -1, -1))\n",
    "print(np_2)\n",
    "\n",
    "summ = 0\n",
    "for i in range(user_input):\n",
    "    summ += np.sum(np_2[i])\n",
    "\n",
    "print(\"Сумма значений на главной диагонали:\", summ)"
   ]
  },
  {
   "cell_type": "code",
   "execution_count": 4,
   "id": "749d0faa",
   "metadata": {},
   "outputs": [],
   "source": [
    "# Задание 3\n",
    "# Решите систему уравнений:\n",
    "# 4x + 2y + z = 4\n",
    "# x + 3y = 12\n",
    "# 5y + 4z = -3\n",
    "\n",
    "# вводим коэффициенты при переменных в левой части уравнения\n",
    "a = np.array( [ [4, 2, 1], [1, 3, 0], [0, 5, 4]] )\n",
    "\n",
    "# вводим коэффициенты при переменных в правой части уравнения\n",
    "b = np.array( [ 4, 12, -3] )"
   ]
  },
  {
   "cell_type": "code",
   "execution_count": 5,
   "id": "0a66461b",
   "metadata": {},
   "outputs": [
    {
     "data": {
      "text/plain": [
       "array([ 0.46666667,  3.84444444, -5.55555556])"
      ]
     },
     "execution_count": 5,
     "metadata": {},
     "output_type": "execute_result"
    }
   ],
   "source": [
    "# импортируем linalg\n",
    "from numpy import linalg\n",
    "\n",
    "# решение\n",
    "linalg.solve(a, b)"
   ]
  },
  {
   "cell_type": "code",
   "execution_count": 6,
   "id": "356066ac",
   "metadata": {},
   "outputs": [
    {
     "data": {
      "text/plain": [
       "True"
      ]
     },
     "execution_count": 6,
     "metadata": {},
     "output_type": "execute_result"
    }
   ],
   "source": [
    "# проверка решения\n",
    "np.allclose( np.dot(a, linalg.solve(a, b)), b )"
   ]
  },
  {
   "cell_type": "code",
   "execution_count": 7,
   "id": "f638dd7c",
   "metadata": {},
   "outputs": [],
   "source": [
    "# Задание 4\n",
    "# Имеется матрица покупок в интернет-магазине. \n",
    "# Столбец А - ID пользователя. Остальные столбцы - количество покупок категорий товаров этим пользователем:\n",
    "users_stats = np.array(\n",
    "    [\n",
    "        [2, 1, 0, 0, 0, 0],\n",
    "        [1, 1, 2, 1, 0, 0],\n",
    "        [2, 0, 1, 0, 0, 0],\n",
    "        [1, 1, 2, 1, 0, 1],\n",
    "        [0, 0, 1, 2, 0, 0],\n",
    "        [0, 0, 0, 0, 0, 5],\n",
    "        [1, 0, 0, 0, 0, 0],\n",
    "        [0, 1, 1, 0, 0, 0],\n",
    "        [0, 0, 0, 1, 1, 3],\n",
    "        [1, 0, 0, 2, 1, 4]\n",
    "    ], \n",
    "    np.int32\n",
    ")"
   ]
  },
  {
   "cell_type": "code",
   "execution_count": 8,
   "id": "ad9d5d71",
   "metadata": {},
   "outputs": [],
   "source": [
    "# На сайт заходит очередной посетитель, о покупках которого известно следующее:\n",
    "next_user_stats = np.array([0, 1, 2, 0, 0, 0])"
   ]
  },
  {
   "cell_type": "code",
   "execution_count": 9,
   "id": "a2897b48",
   "metadata": {},
   "outputs": [],
   "source": [
    "# Найдите самого похожего пользователя. \n",
    "# Т. е. посчитайте косинусное сходство между этим пользователем и всеми пользователями из массива user_stats\n",
    "import matplotlib.pyplot as plt"
   ]
  },
  {
   "cell_type": "code",
   "execution_count": 23,
   "id": "d7751080",
   "metadata": {},
   "outputs": [],
   "source": [
    "def cosine( a, b ):\n",
    "    \"\"\"\n",
    "    Подсчет косинуса угла между векторами a, b по их координатам\n",
    "    \"\"\"\n",
    "    \n",
    "    # длины векторов\n",
    "    aLength = np.linalg.norm( a )\n",
    "    bLength = np.linalg.norm( b )\n",
    "    \n",
    "    return np.dot( a, b ) / ( aLength * bLength )"
   ]
  },
  {
   "cell_type": "code",
   "execution_count": 29,
   "id": "efb27fb8",
   "metadata": {},
   "outputs": [
    {
     "name": "stdout",
     "output_type": "stream",
     "text": [
      "User_ID= 1 [2 1 0 0 0 0] [0 1 2 0 0 0] 0.19999999999999996\n",
      "User_ID= 2 [1 1 2 1 0 0] [0 1 2 0 0 0] 0.8451542547285165\n",
      "User_ID= 3 [2 0 1 0 0 0] [0 1 2 0 0 0] 0.3999999999999999\n",
      "User_ID= 4 [1 1 2 1 0 1] [0 1 2 0 0 0] 0.7905694150420948\n",
      "User_ID= 5 [0 0 1 2 0 0] [0 1 2 0 0 0] 0.3999999999999999\n",
      "User_ID= 6 [0 0 0 0 0 5] [0 1 2 0 0 0] 0.0\n",
      "User_ID= 7 [1 0 0 0 0 0] [0 1 2 0 0 0] 0.0\n",
      "User_ID= 8 [0 1 1 0 0 0] [0 1 2 0 0 0] 0.9486832980505138\n",
      "User_ID= 9 [0 0 0 1 1 3] [0 1 2 0 0 0] 0.0\n",
      "User_ID= 10 [1 0 0 2 1 4] [0 1 2 0 0 0] 0.0\n"
     ]
    }
   ],
   "source": [
    "for i in range(10):\n",
    "    print(\"User_ID=\", i+1, users_stats[i], next_user_stats, cosine(users_stats[i], next_user_stats))"
   ]
  },
  {
   "cell_type": "code",
   "execution_count": 31,
   "id": "6bba4b44",
   "metadata": {},
   "outputs": [],
   "source": [
    "# Ответ: самый похожий пользователь: User_ID = 8, косинусное сходство между векторами максимально и составляет 0.9486832980505138"
   ]
  }
 ],
 "metadata": {
  "kernelspec": {
   "display_name": "Python 3",
   "language": "python",
   "name": "python3"
  },
  "language_info": {
   "codemirror_mode": {
    "name": "ipython",
    "version": 3
   },
   "file_extension": ".py",
   "mimetype": "text/x-python",
   "name": "python",
   "nbconvert_exporter": "python",
   "pygments_lexer": "ipython3",
   "version": "3.8.8"
  }
 },
 "nbformat": 4,
 "nbformat_minor": 5
}
